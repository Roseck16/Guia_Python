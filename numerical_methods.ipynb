{
    "cells": [
        {
            "cell_type": "markdown",
            "source": [
                "\r\n",
                "# 1. Python expresivo\r\n",
                "\r\n",
                "No se busca que esta sea una introducción a la programación. Tutoriales sobre el lenguaje de programación Python se pueden encontrar en Internet fácilmente. Lo que se busca hacer en este capítulo es proveer una rápida recopilación de las características de Python.\r\n",
                "\r\n",
                "## 1.1 ¿Por qué Python?\r\n",
                "En esta guía se usa Python 3, con la idea de facilitar la aplicación de algunos de los temas que se discutirán. Con su sintaxis razonablemente simple se pueden escribir programas expresivamente, aunque a veces se sacrifique eficiencia. Las implementaciones tienen un objetivo pedagógico. Cuando se requiera más poder computacional, puede que se necesite cambiar a un lenguage compilado. La mayoría del trabajo en supercomputadoras se realiza usando lenguajes como Fortran o C++. Sin embargo, contruir un programa prototipo en Python puede ser invaluable para adquirir una mayor comprensión.\r\n",
                "\r\n",
                "## 1.2 Calidad del código\r\n",
                "Cuando se desarrollan programas grandes, seguir una guía sobre el formato que debe tener el código puede ser importante, pero la mayoría de los programas mostrados aquí serán cortos por lo que no será un tema importante. \r\n",
                "A veces, preguntas sobre cómo escribir y revisar programas son más importantes que el formato del código. Algunos consejos generales son los siguientes:\r\n",
                "\r\n",
                "- **La legibilidad del código es importante** Asegurese de que sus programas estén dirigidos a humanos, no computadoras. Esto significa evitar usar trucos \"astutos\". Por lo que debe usar buenos nombres de variables y escribir comentarios que agregen valor (en lugar de repetir el código). El mayor beneficiado será usted, cuando regrese a sus programas meses después.\r\n",
                "- **Sea cuidadoso, no rápido, cuando escriba código** Generalmente es más difícil debuggear código que escribirlo. En lugar de pasar dos minutos escribiendo un programa que no sirve y requiera dos horas para arreglar, intente pasar 10 minutos diseñando el código, siendo cuidadoso de convertir sus ideas a líneas de un programa. Tampoco hace daño usar Python de forma interactiva para probar componentes del código una a una o diferentes partes en conjunto.\r\n",
                "- **Código sin probar es mal código**  Asegurece que su código funciona correctamente. Si tiene un ejemplo del que ya conoce la respuesta, asegúrese de que su código devuelva esa respuesta. Siga manualmente una variedad de casos (mentalmente o en papel). Esto y usando *print statements*"
            ],
            "metadata": {}
        },
        {
            "cell_type": "code",
            "execution_count": 1,
            "source": [
                "print(\"Hello World!\")\n",
                "print(1+2)"
            ],
            "outputs": [
                {
                    "output_type": "stream",
                    "name": "stdout",
                    "text": [
                        "Hello World!\n",
                        "3\n"
                    ]
                }
            ],
            "metadata": {}
        }
    ],
    "metadata": {
        "orig_nbformat": 4,
        "language_info": {
            "name": "python",
            "version": "3.9.6",
            "mimetype": "text/x-python",
            "codemirror_mode": {
                "name": "ipython",
                "version": 3
            },
            "pygments_lexer": "ipython3",
            "nbconvert_exporter": "python",
            "file_extension": ".py"
        },
        "kernelspec": {
            "name": "python3",
            "display_name": "Python 3.9.6 64-bit ('pp': conda)"
        },
        "interpreter": {
            "hash": "b20852ede4c71fd88cb4a0d9bd3f93fb09db7f4d401d9a9f2fa092f60bfaffde"
        }
    },
    "nbformat": 4,
    "nbformat_minor": 2
}