{
    "cells": [
        {
            "cell_type": "markdown",
            "source": [
                "# Python expresivo\n",
                "\n",
                "No se busca que esta sea una introducción a la programación. Tutoriales sobre el lenguaje de programación Python se pueden encontrar en Internet fácilmente. Lo que se busca hacer en este capítulo es proveer una rápida recopilación de las características de Python.\n",
                "\n",
                "## ¿Por qué Python?\n",
                "En esta guía se usa Python 3, con la idea de facilitar la aplicación de algunos de los temas que se discutirán. Con su sintaxis razonablemente simple se pueden escribir programas expresivamente, aunque a veces se sacrifique eficiencia. Las implementaciones tienen un objetivo pedagógico. Cuando se requiera más poder computacional, puede que se necesite cambiar a un lenguaje compilado. La mayoría del trabajo en supercomputadoras se realiza usando lenguajes como Fortran o C++. Sin embargo, construir un programa prototipo en Python puede ser invaluable para adquirir una mayor comprensión.\n",
                "\n",
                "## Calidad del código\n",
                "Cuando se desarrollan programas grandes, seguir una guía sobre el formato que debe tener el código puede ser importante, pero la mayoría de los programas mostrados aquí serán cortos por lo que no será un tema importante. \n",
                "A veces, preguntas sobre cómo escribir y revisar programas son más importantes que el formato del código. Algunos consejos generales son los siguientes:\n",
                "\n",
                "- **La legibilidad del código es importante** Asegúrese de que sus programas estén dirigidos a humanos, no computadoras. Esto significa evitar usar trucos \"astutos\". Por lo que debe usar buenos nombres de variables y escribir comentarios que agreguen valor (en lugar de repetir el código). El mayor beneficiado será usted, cuando regrese a sus programas meses después.\n",
                "- **Sea cuidadoso, no rápido, cuando escriba código** Generalmente es más difícil debuggear código que escribirlo. En lugar de pasar dos minutos escribiendo un programa que no sirve y requiera dos horas para arreglar, intente pasar 10 minutos diseñando el código, siendo cuidadoso de convertir sus ideas a líneas de un programa. Tampoco hace daño usar Python de forma interactiva para probar componentes del código una a una o diferentes partes en conjunto.\n",
                "- **Código sin probar es mal código**  Asegúrese que su código funciona correctamente. Si tiene un ejemplo del que ya conoce la respuesta, asegúrese de que su código devuelva esa respuesta. Siga manualmente una variedad de casos (mentalmente o en papel). Esto y usando *print statements* puede ayudar mucho para asegurar que todo funcione como se debe.\n",
                "- **Escriba funciones que hagan una cosa bien** En lugar de escribir muchas operaciones no relacionadas en secuencia, debe estructurar su código para que haga uso de funciones bien nombradas (y bien pensadas) que hagan una cosa bien.\n",
                "- **Use librerías confiables** En la mayoría de esta guía se \"reinventará la rueda\", con el fin de entender cómo funcionan las cosas. Tiempo después en su trabajo, usted no siempre debe usar sus propias implementaciones de algoritmos estándar.\n",
                "\n",
                "# Resumen de características de Python\n",
                "\n",
                "## Lo básico\n",
                "Python se puede usar de forma interactiva: cuando vea el comando `>>>`, también conocido como *chevron*. Pero también se puede usar como otros lenguajes, donde se almacena el código en un archivo.    \n",
                "Como otros lenguajes, en Python se usan variables, que pueden ser números enteros, complejos, etc. A diferencia de otros lenguajes, Python es dinámico en cuanto a los tipos de variable. Por ejemplo, `x = 0.5` crea una variable de punto flotante. Números como `0.5` o strings como `\"Hello\"` se conocen como *literales*. Si se desea imprimir en pantalla una variable, se usa la función `print(x)` que viene predefinida. Funciones adicionales están disponibles a través de la librería estándar, por ejemplo usted puede hacer un `import` de la librería `math` para hacer uso de la función `sqrt`.    \n",
                "Se pueden realizar operaciones aritméticas con las variables. `x**y` eleva la variable `x` a la potencia `y` ó `x//y` hace una *floor division* (hace la división y redondea el resultado hacia abajo).    \n",
                "Python también utiliza asignación aumentada, es decir, operaciones como `x += 1` o incluso asignaciones múltiples como `x, y = 0.5, \"Hello\"`.   \n",
                "Los comentarios son una característica importante de los lenguajes de programación: son texto ignorado por la computadora pero muy útil para los humanos que leen el código. Ese humano puede ser usted en unos meses, cuando se haya olvidado el propósito o los detalles del código que esté inspeccionando. Python permite escribir comentarios tanto de una línea como de múltiples líneas, usando `#` ó *docstrings* a través de tres comillas `\"\"\"`.\n",
                "\n",
                "## Control de flujo\n",
                "Control de flujo se refiere a construcciones programables donde no todas las líneas del código son ejecutadas en orden. Un ejemplo es la declaración con `if`"
            ],
            "metadata": {}
        },
        {
            "cell_type": "code",
            "execution_count": 1,
            "source": [
                "x = 0.5\n",
                "if x != 0:\n",
                "    print(\"x no es cero\")"
            ],
            "outputs": [
                {
                    "output_type": "stream",
                    "name": "stdout",
                    "text": [
                        "x no es cero\n"
                    ]
                }
            ],
            "metadata": {}
        },
        {
            "cell_type": "markdown",
            "source": [
                "La sangría o *tabulación* es importante en Python: la línea después del `if` está tabulada, dando a entender que pertenece al escenario correspondiente. Similarmente, los dos puntos, `:`, al final de la línea que contiene al `if` es sintácticamente importante. Si se quiere tomar en cuenta otras posibilidades, se puede usar otro bloque tabulado empezando con un `else:` o con `elif x==0:`.  \n",
                "Otra construcción programable es ciclo `for`, que se usa cuando se desea repetir una cierta acción un número fijo de veces. Por ejemplo, escribiendo `for i in range(3):` se repite lo que sea que siga tres veces.\n",
                "\n",
                "## Estructuras de datos\n",
                "Python utiliza entidades contenedoras, llamadas estructuras de datos.\n",
                "\n",
                "- **Listas** Una lista es un contenedor de elementos. Puede aumentar cuando se necesite y los elementos pueden ser de diferentes tipos. Para crear una lista se usan corchetes, y los elementos se pueden separar por comas, por ejemplo `z = [3, 1+2j, -2.0]`\n",
                "- **Tuplas** Las tuplas se pueden definir como listas inmutables. Son secuencias que no cambian ni crecen. Son definidas usando paréntesis en lugar de corchetes: `xs = (1,2,3)`, pero se pueden omitir los paréntesis.\n",
                "- **Strings** Strings pueden verse como secuencias. Si `name = \"Mary\"` entonces `name[-1` es la letra 'y'. Como las tuplas, las strings son inmutables, y se pueden concatenar dos strings usando un `+`.\n",
                "- **Diccionarios** Python también soporta diccionarios, que son llamados listas asociativas en computación. Su información se puede acceder usando strings o *floats* (números de punto flotante) como *llaves*. En otras palabras, diccionarios contienen pares de llave y valor. La sintaxis para crear uno utiliza braquets, con pares llave-valor separados por dos puntos. Por ejemplo, `htow = {1.41: 31.3, 1.45: 36.7, 1.48: 42.4}` es un diccionario que relaciona alturas con pesos. Para acceder a un valor, se utilizan corchetes con la llave correspondiente: `htow[1.45]`.\n",
                "\n",
                "## Funciones definidas por el usuario\n",
                "Si en un programa se ejecutan muchas operaciones en secuencia, dentro de varios ciclos, su lógica se puede volver confusa. Por lo tanto, se pueden agrupar operaciones lógicamente relacionadas y crear lo que se llama funciones definidas por el usuario. Estas se refieren a líneas de código que no necesariamente se ejecutan en el orden en el que aparecen en el código.    \n",
                "Para introducir una función, se utiliza la palabra `def`, junto con un nombre y dos puntos al final de la línea, así como tabulaciones dentro del bloque de código que sigue. Por ejemplo, esta es una función que suma desde 1 hasta algún entero:"
            ],
            "metadata": {}
        },
        {
            "cell_type": "code",
            "execution_count": 2,
            "source": [
                "def sumOfInts(nmax):\n",
                "    val = sum(range(1, nmax + 1))\n",
                "    return val"
            ],
            "outputs": [],
            "metadata": {}
        },
        {
            "cell_type": "markdown",
            "source": [
                "Esta función recibe un solo parámetro y devuelve un sólo valor. Pero podría recibir varios argumentos, o ninguno. Y similarmente, pudo haber impreso el resultado en pantalla, en lugar de devolverlo.\n",
                "\n",
                "# Errores\n",
                "En este texto se usa la palabra *exactitud* para describir el acierto de un valor con su (posiblemente desconocido) valor verdadero. Por otro lado, la palabra *precisión* se usa para denotar cuántos dígitos se pueden usar en una operación matemática, aunque sean correctos o no. Un resultado inexacto se obtiene cuando hay un error. Esto puede pasar por una variedad de razones, de las que solo una es precisión limitada. Excluyendo el \"error humano\" e incertidumbre de las mediciones en los datos entrantes, hay generalmente dos tipos de errores con los que se trata en cómputo numérico: error de aproximación y error de redondeo. En detalle:\n",
                "\n",
                "- **Error de aproximación** Aquí un ejemplo. Usted está tratando de aproximar la exponencial, $e^x$, usando su serie de Taylor:\n",
                "$\n",
                "\\begin{equation}\n",
                "y = \\sum_{n=0}^{n_{max}} \\frac{x^n}{n!}\n",
                "\\end{equation}\n",
                "$\n",
                "Obviamente, estamos limitando la suma a los términos hasta $n_{max}$ (es decir, estamos incluyendo los terminos marcados como 0, 1, ..., $n_{max}$ y no usamos los términos desde $n_{max}$ hasta $\\infty$). Como resultado, es un tanto obvio que el valor de $y$ para un $x$ dado puede depender de $n_{max}$. En principio, al costo de correr los cálculos por más tiempo, uno puede obtener una mejor respuesta.\n",
                "\n",
                "- **Errores de redondeo** Este tipo de errores aparecen cada vez que un cálculo es realizado sin usar números de punto flotante: como estos no tienen una infinita precisión, algo de información se pierde. Por ejemplo: usando números reales, es fácil ver que $(\\sqrt{2})^2 - 2 = 0$. Sin embargo, cuando se realiza la misma operación en Python obtenemos una respuesta diferente de cero:"
            ],
            "metadata": {}
        },
        {
            "cell_type": "code",
            "execution_count": 3,
            "source": [
                "from math import sqrt\n",
                "(sqrt(2))**2 - 2"
            ],
            "outputs": [
                {
                    "output_type": "execute_result",
                    "data": {
                        "text/plain": [
                            "4.440892098500626e-16"
                        ]
                    },
                    "metadata": {},
                    "execution_count": 3
                }
            ],
            "metadata": {}
        },
        {
            "cell_type": "markdown",
            "source": [
                "Esto es porque $\\sqrt{2}$ no puede ser evaluado con una cantidad infinita de dígitos en una computadora. Por lo tanto, el (un tanto inexacto) resultado de $\\sqrt{2}$ es usado para realizar un segundo cálculo: el cuadrado. Finalmente, la resta es aún otra operación matemática que puede llevar a un error de redondeo. A menudo, los errores de redondeo no desaparecen aunque se haga el cálculo por más tiempo.$\\sqrt{2}$\n",
                "\n",
                "## Error absoluto y relativo\n",
                "Asuma que estamos estudiando una cantidad cuyo valor exacto es $x$. Si $\\tilde{x}$ es un valor aproximado para este valor, entonces se define el *error absoluto* como sigue:\n",
                "$\n",
                "\\begin{equation} \n",
                "\\Delta x = \\tilde{x} - x  \n",
                "\\end{equation}\n",
                "$\n",
                "Aquí no especificamos en este momento el origen de este error absoluto: puede ser por incertesas en los datos de entrada, una inexactitud introducida por un cálculo imperfecto como el mostrado anteriormente, o el resultado de un error de redondeo (posiblemente acumulado sobre varios cálculos). Por ejemplo:\n",
                "$\n",
                "x_0 = 1.000, \\quad \\quad \\tilde{x_0} = 0.999\n",
                "$\n",
                "Corresponde a un error absoluto de  $\\Delta x_0 = -10^{-3}$ . Esto también nos permite ver que el error absoluto, por definición, puede ser positivo o negativo. Si se necesita que sea positivo (digamos, para obtener su logaritmo), simplemente se toma su valor absoluto.   \n",
                "Usualmente estamos interesados en definir un *límite de error* de la forma:\n",
                "$\n",
                "|\\Delta x| \\leq \\epsilon\n",
                "$\n",
                "o equivalentemente:\n",
                "$\n",
                "|\\tilde{x} - x| \\leq \\epsilon\n",
                "$\n",
                "donde esperamos que $\\epsilon$ sea \"pequeño\". Tener acceso a tal límite de error significa que podemos decir algo muy específico sobre el (desconocido) valor exacto $x$:\n",
                "$\n",
                "\\tilde{x} - \\epsilon \\leq x \\leq \\tilde{x} + \\epsilon\n",
                "$\n",
                "Esto significa que aunque no sepamos el valor exacto de $x$, sabemos que puede ser a lo más $\\tilde{x} + \\epsilon$. Tenga en mente que si usted sabe el concreto error absoluto, como con $\\Delta x_0 = -10^{-3}$ en el ejemplo anterior, de la ecuación _, sabemos que \n",
                "$\n",
                "x = \\tilde{x} - \\Delta x\n",
                "$\n",
                "y no hay necesidad de desigualdades. Las desigualdades aparecen cuando no se sabe el valor concreto del error absoluto y sólo se conoce el límite para la magnitud del error. La notación para el límite de error $|\\Delta x| \\leq \\epsilon$ a veces se reescribe en la forma $x = \\tilde{x} \\pm \\epsilon$ aunque se tiene que tener cuidado: esto utiliza nuestra definición de *máximo de error* (es decir, el peor caso posible) como se escribió anteriormente, no el *error estandar*  \n",
                "Por supuesto, incluso en esta pronta etapa, uno debe pensar en exactamente a qué nos referimos por \"pequeño\". En el caso anterior de $\\Delta x_0 = -10^{-3}$ probablemente se ajusta a esto. ¿Pero que tal:\n",
                "$\n",
                "x_1 = 1 \\ 000 \\ 000 \\ 000.0 \\quad \\quad \\quad \\tilde{x_1} = 999 \\ 999 \\ 999.0\n",
                "$\n",
                "\n",
                "Que corresponde a un error absoluto de $\\Delta x_1 = -1$? Obviamente, este error absoluto es más grande (en magnitud) que $\\Delta x_0 = -10^{-3}$. Por otro lado, no es muy equivocado decir que hay algo mal con esta comparación: $x_1$ es mucho más grande (en magnitud) que $x_0$, por lo que aunque el valor aproximado $\\tilde{x_1}$ está equivocado por una unidad, se \"siente\" más cerca al valor exacto correspondiente de lo que $\\tilde{x_0}$ estaba.    \n",
                "Esto se resuelve introduciendo una nueva definición. Igual que antes, estamos interesados en una cantidad cuyo valor exacto es $x$ y un valor aproximado para él es $\\tilde{x}$. Asumiento $x \\neq 0$, podemos definir el *error relativo* como sigue:\n",
                "$\n",
                "\\begin{equation}\n",
                "\\delta x = \\frac{\\Delta x}{x} = \\frac{\\tilde{x} - x}{x}\n",
                "\\end{equation}\n",
                "$\n",
                "Obviamente, esto simplemente es el error absoluto $\\Delta x$ dividido por el valor exacto $x$. Al igual que antes, no especificamos el origen de este error relativo (incertidumbre en los datos ingresados, redondeo, etc.)    \n",
                "Otra forma de expresar este error relativo es:\n",
                "$\n",
                "\\tilde{x} = x(1 + \\delta x)\n",
                "$\n",
                "\n",
                "\n",
                "## Propagación de error\n",
                "Lorem ipsum dolor sit amet, consectetur adipiscing elit. Nulla a aliquet nisl. Vivamus quam tellus, pretium sed pretium sed, auctor aliquam urna. Fusce in nisl diam. Pellentesque blandit, quam vitae molestie interdum, augue nulla suscipit velit, at tincidunt orci lorem quis lectus. Praesent pellentesque mollis leo quis convallis. Aenean non suscipit nisl. Vestibulum non enim vehicula dui scelerisque consectetur et convallis urna. Duis sed eros dignissim erat laoreet finibus. In aliquet pellentesque blandit. Quisque pulvinar non eros id feugiat. Nulla dictum augue sit amet est tincidunt dictum. Sed posuere, justo a lobortis scelerisque, eros ex suscipit justo, ut porttitor ligula turpis id nibh. Morbi ac dapibus ex, in iaculis urna. Maecenas at nibh egestas urna gravida lobortis non id nibh. Nullam tincidunt, libero non vestibulum molestie, tellus augue dapibus mi, in elementum nisi nibh id tortor.\n",
                "\n",
                "Quisque non sapien faucibus ligula malesuada commodo auctor in odio. Donec lobortis justo a feugiat feugiat. Quisque dui nisi, luctus eu ante id, faucibus iaculis odio. Nunc purus elit, consequat in libero eleifend, dignissim finibus tellus. Maecenas tincidunt elit quis odio bibendum, ac interdum nisi commodo. Maecenas rutrum turpis egestas augue commodo dapibus. Proin feugiat est ut neque laoreet, a varius velit vestibulum."
            ],
            "metadata": {}
        },
        {
            "cell_type": "code",
            "execution_count": 1,
            "source": [
                "print(\"Hello World!\")\n",
                "print(1+2)"
            ],
            "outputs": [
                {
                    "output_type": "stream",
                    "name": "stdout",
                    "text": [
                        "Hello World!\n",
                        "3\n"
                    ]
                }
            ],
            "metadata": {}
        }
    ],
    "metadata": {
        "orig_nbformat": 4,
        "language_info": {
            "name": "python",
            "version": "3.9.6",
            "mimetype": "text/x-python",
            "codemirror_mode": {
                "name": "ipython",
                "version": 3
            },
            "pygments_lexer": "ipython3",
            "nbconvert_exporter": "python",
            "file_extension": ".py"
        },
        "kernelspec": {
            "name": "python3",
            "display_name": "Python 3.9.6 64-bit ('pp': conda)"
        },
        "interpreter": {
            "hash": "b20852ede4c71fd88cb4a0d9bd3f93fb09db7f4d401d9a9f2fa092f60bfaffde"
        }
    },
    "nbformat": 4,
    "nbformat_minor": 2
}